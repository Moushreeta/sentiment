{
  "nbformat": 4,
  "nbformat_minor": 0,
  "metadata": {
    "colab": {
      "provenance": []
    },
    "kernelspec": {
      "name": "python3",
      "display_name": "Python 3"
    },
    "language_info": {
      "name": "python"
    }
  },
  "cells": [
    {
      "cell_type": "markdown",
      "source": [
        "# Data Loading using pandas library"
      ],
      "metadata": {
        "id": "z4mMX-ojxTqn"
      }
    },
    {
      "cell_type": "code",
      "source": [
        "import pandas as pd"
      ],
      "metadata": {
        "id": "vi7mgreMxQc9"
      },
      "execution_count": null,
      "outputs": []
    },
    {
      "cell_type": "code",
      "source": [
        "df=pd.read_excel('/content/Assignment10.xlsx')"
      ],
      "metadata": {
        "id": "ZugyMppHzpXp"
      },
      "execution_count": 21,
      "outputs": []
    },
    {
      "cell_type": "code",
      "source": [
        "df.head()"
      ],
      "metadata": {
        "colab": {
          "base_uri": "https://localhost:8080/",
          "height": 206
        },
        "id": "veRVKCVfzwIg",
        "outputId": "18de89f6-ea0e-4ef2-bb77-e61968d9082b"
      },
      "execution_count": 22,
      "outputs": [
        {
          "output_type": "execute_result",
          "data": {
            "text/plain": [
              "                                             Article\n",
              "0  Retailers, the makers of foods marketed for we...\n",
              "1  Move over, Ozempic — there’s a new drug in tow...\n",
              "2  Sept 14 (Reuters) - Bristol Myers Squibb (BMY....\n",
              "3  Austin Wolcott was 18 years old and pretty sur...\n",
              "4  Cancer, often referred to as the “emperor of a..."
            ],
            "text/html": [
              "\n",
              "  <div id=\"df-630fff7c-0ba4-4f70-84d0-3d4716157162\" class=\"colab-df-container\">\n",
              "    <div>\n",
              "<style scoped>\n",
              "    .dataframe tbody tr th:only-of-type {\n",
              "        vertical-align: middle;\n",
              "    }\n",
              "\n",
              "    .dataframe tbody tr th {\n",
              "        vertical-align: top;\n",
              "    }\n",
              "\n",
              "    .dataframe thead th {\n",
              "        text-align: right;\n",
              "    }\n",
              "</style>\n",
              "<table border=\"1\" class=\"dataframe\">\n",
              "  <thead>\n",
              "    <tr style=\"text-align: right;\">\n",
              "      <th></th>\n",
              "      <th>Article</th>\n",
              "    </tr>\n",
              "  </thead>\n",
              "  <tbody>\n",
              "    <tr>\n",
              "      <th>0</th>\n",
              "      <td>Retailers, the makers of foods marketed for we...</td>\n",
              "    </tr>\n",
              "    <tr>\n",
              "      <th>1</th>\n",
              "      <td>Move over, Ozempic — there’s a new drug in tow...</td>\n",
              "    </tr>\n",
              "    <tr>\n",
              "      <th>2</th>\n",
              "      <td>Sept 14 (Reuters) - Bristol Myers Squibb (BMY....</td>\n",
              "    </tr>\n",
              "    <tr>\n",
              "      <th>3</th>\n",
              "      <td>Austin Wolcott was 18 years old and pretty sur...</td>\n",
              "    </tr>\n",
              "    <tr>\n",
              "      <th>4</th>\n",
              "      <td>Cancer, often referred to as the “emperor of a...</td>\n",
              "    </tr>\n",
              "  </tbody>\n",
              "</table>\n",
              "</div>\n",
              "    <div class=\"colab-df-buttons\">\n",
              "\n",
              "  <div class=\"colab-df-container\">\n",
              "    <button class=\"colab-df-convert\" onclick=\"convertToInteractive('df-630fff7c-0ba4-4f70-84d0-3d4716157162')\"\n",
              "            title=\"Convert this dataframe to an interactive table.\"\n",
              "            style=\"display:none;\">\n",
              "\n",
              "  <svg xmlns=\"http://www.w3.org/2000/svg\" height=\"24px\" viewBox=\"0 -960 960 960\">\n",
              "    <path d=\"M120-120v-720h720v720H120Zm60-500h600v-160H180v160Zm220 220h160v-160H400v160Zm0 220h160v-160H400v160ZM180-400h160v-160H180v160Zm440 0h160v-160H620v160ZM180-180h160v-160H180v160Zm440 0h160v-160H620v160Z\"/>\n",
              "  </svg>\n",
              "    </button>\n",
              "\n",
              "  <style>\n",
              "    .colab-df-container {\n",
              "      display:flex;\n",
              "      gap: 12px;\n",
              "    }\n",
              "\n",
              "    .colab-df-convert {\n",
              "      background-color: #E8F0FE;\n",
              "      border: none;\n",
              "      border-radius: 50%;\n",
              "      cursor: pointer;\n",
              "      display: none;\n",
              "      fill: #1967D2;\n",
              "      height: 32px;\n",
              "      padding: 0 0 0 0;\n",
              "      width: 32px;\n",
              "    }\n",
              "\n",
              "    .colab-df-convert:hover {\n",
              "      background-color: #E2EBFA;\n",
              "      box-shadow: 0px 1px 2px rgba(60, 64, 67, 0.3), 0px 1px 3px 1px rgba(60, 64, 67, 0.15);\n",
              "      fill: #174EA6;\n",
              "    }\n",
              "\n",
              "    .colab-df-buttons div {\n",
              "      margin-bottom: 4px;\n",
              "    }\n",
              "\n",
              "    [theme=dark] .colab-df-convert {\n",
              "      background-color: #3B4455;\n",
              "      fill: #D2E3FC;\n",
              "    }\n",
              "\n",
              "    [theme=dark] .colab-df-convert:hover {\n",
              "      background-color: #434B5C;\n",
              "      box-shadow: 0px 1px 3px 1px rgba(0, 0, 0, 0.15);\n",
              "      filter: drop-shadow(0px 1px 2px rgba(0, 0, 0, 0.3));\n",
              "      fill: #FFFFFF;\n",
              "    }\n",
              "  </style>\n",
              "\n",
              "    <script>\n",
              "      const buttonEl =\n",
              "        document.querySelector('#df-630fff7c-0ba4-4f70-84d0-3d4716157162 button.colab-df-convert');\n",
              "      buttonEl.style.display =\n",
              "        google.colab.kernel.accessAllowed ? 'block' : 'none';\n",
              "\n",
              "      async function convertToInteractive(key) {\n",
              "        const element = document.querySelector('#df-630fff7c-0ba4-4f70-84d0-3d4716157162');\n",
              "        const dataTable =\n",
              "          await google.colab.kernel.invokeFunction('convertToInteractive',\n",
              "                                                    [key], {});\n",
              "        if (!dataTable) return;\n",
              "\n",
              "        const docLinkHtml = 'Like what you see? Visit the ' +\n",
              "          '<a target=\"_blank\" href=https://colab.research.google.com/notebooks/data_table.ipynb>data table notebook</a>'\n",
              "          + ' to learn more about interactive tables.';\n",
              "        element.innerHTML = '';\n",
              "        dataTable['output_type'] = 'display_data';\n",
              "        await google.colab.output.renderOutput(dataTable, element);\n",
              "        const docLink = document.createElement('div');\n",
              "        docLink.innerHTML = docLinkHtml;\n",
              "        element.appendChild(docLink);\n",
              "      }\n",
              "    </script>\n",
              "  </div>\n",
              "\n",
              "\n",
              "<div id=\"df-47502c7d-fcb8-4d47-a4a7-64012f94bce4\">\n",
              "  <button class=\"colab-df-quickchart\" onclick=\"quickchart('df-47502c7d-fcb8-4d47-a4a7-64012f94bce4')\"\n",
              "            title=\"Suggest charts\"\n",
              "            style=\"display:none;\">\n",
              "\n",
              "<svg xmlns=\"http://www.w3.org/2000/svg\" height=\"24px\"viewBox=\"0 0 24 24\"\n",
              "     width=\"24px\">\n",
              "    <g>\n",
              "        <path d=\"M19 3H5c-1.1 0-2 .9-2 2v14c0 1.1.9 2 2 2h14c1.1 0 2-.9 2-2V5c0-1.1-.9-2-2-2zM9 17H7v-7h2v7zm4 0h-2V7h2v10zm4 0h-2v-4h2v4z\"/>\n",
              "    </g>\n",
              "</svg>\n",
              "  </button>\n",
              "\n",
              "<style>\n",
              "  .colab-df-quickchart {\n",
              "      --bg-color: #E8F0FE;\n",
              "      --fill-color: #1967D2;\n",
              "      --hover-bg-color: #E2EBFA;\n",
              "      --hover-fill-color: #174EA6;\n",
              "      --disabled-fill-color: #AAA;\n",
              "      --disabled-bg-color: #DDD;\n",
              "  }\n",
              "\n",
              "  [theme=dark] .colab-df-quickchart {\n",
              "      --bg-color: #3B4455;\n",
              "      --fill-color: #D2E3FC;\n",
              "      --hover-bg-color: #434B5C;\n",
              "      --hover-fill-color: #FFFFFF;\n",
              "      --disabled-bg-color: #3B4455;\n",
              "      --disabled-fill-color: #666;\n",
              "  }\n",
              "\n",
              "  .colab-df-quickchart {\n",
              "    background-color: var(--bg-color);\n",
              "    border: none;\n",
              "    border-radius: 50%;\n",
              "    cursor: pointer;\n",
              "    display: none;\n",
              "    fill: var(--fill-color);\n",
              "    height: 32px;\n",
              "    padding: 0;\n",
              "    width: 32px;\n",
              "  }\n",
              "\n",
              "  .colab-df-quickchart:hover {\n",
              "    background-color: var(--hover-bg-color);\n",
              "    box-shadow: 0 1px 2px rgba(60, 64, 67, 0.3), 0 1px 3px 1px rgba(60, 64, 67, 0.15);\n",
              "    fill: var(--button-hover-fill-color);\n",
              "  }\n",
              "\n",
              "  .colab-df-quickchart-complete:disabled,\n",
              "  .colab-df-quickchart-complete:disabled:hover {\n",
              "    background-color: var(--disabled-bg-color);\n",
              "    fill: var(--disabled-fill-color);\n",
              "    box-shadow: none;\n",
              "  }\n",
              "\n",
              "  .colab-df-spinner {\n",
              "    border: 2px solid var(--fill-color);\n",
              "    border-color: transparent;\n",
              "    border-bottom-color: var(--fill-color);\n",
              "    animation:\n",
              "      spin 1s steps(1) infinite;\n",
              "  }\n",
              "\n",
              "  @keyframes spin {\n",
              "    0% {\n",
              "      border-color: transparent;\n",
              "      border-bottom-color: var(--fill-color);\n",
              "      border-left-color: var(--fill-color);\n",
              "    }\n",
              "    20% {\n",
              "      border-color: transparent;\n",
              "      border-left-color: var(--fill-color);\n",
              "      border-top-color: var(--fill-color);\n",
              "    }\n",
              "    30% {\n",
              "      border-color: transparent;\n",
              "      border-left-color: var(--fill-color);\n",
              "      border-top-color: var(--fill-color);\n",
              "      border-right-color: var(--fill-color);\n",
              "    }\n",
              "    40% {\n",
              "      border-color: transparent;\n",
              "      border-right-color: var(--fill-color);\n",
              "      border-top-color: var(--fill-color);\n",
              "    }\n",
              "    60% {\n",
              "      border-color: transparent;\n",
              "      border-right-color: var(--fill-color);\n",
              "    }\n",
              "    80% {\n",
              "      border-color: transparent;\n",
              "      border-right-color: var(--fill-color);\n",
              "      border-bottom-color: var(--fill-color);\n",
              "    }\n",
              "    90% {\n",
              "      border-color: transparent;\n",
              "      border-bottom-color: var(--fill-color);\n",
              "    }\n",
              "  }\n",
              "</style>\n",
              "\n",
              "  <script>\n",
              "    async function quickchart(key) {\n",
              "      const quickchartButtonEl =\n",
              "        document.querySelector('#' + key + ' button');\n",
              "      quickchartButtonEl.disabled = true;  // To prevent multiple clicks.\n",
              "      quickchartButtonEl.classList.add('colab-df-spinner');\n",
              "      try {\n",
              "        const charts = await google.colab.kernel.invokeFunction(\n",
              "            'suggestCharts', [key], {});\n",
              "      } catch (error) {\n",
              "        console.error('Error during call to suggestCharts:', error);\n",
              "      }\n",
              "      quickchartButtonEl.classList.remove('colab-df-spinner');\n",
              "      quickchartButtonEl.classList.add('colab-df-quickchart-complete');\n",
              "    }\n",
              "    (() => {\n",
              "      let quickchartButtonEl =\n",
              "        document.querySelector('#df-47502c7d-fcb8-4d47-a4a7-64012f94bce4 button');\n",
              "      quickchartButtonEl.style.display =\n",
              "        google.colab.kernel.accessAllowed ? 'block' : 'none';\n",
              "    })();\n",
              "  </script>\n",
              "</div>\n",
              "\n",
              "    </div>\n",
              "  </div>\n"
            ],
            "application/vnd.google.colaboratory.intrinsic+json": {
              "type": "dataframe",
              "variable_name": "df",
              "summary": "{\n  \"name\": \"df\",\n  \"rows\": 25,\n  \"fields\": [\n    {\n      \"column\": \"Article\",\n      \"properties\": {\n        \"dtype\": \"string\",\n        \"num_unique_values\": 25,\n        \"samples\": [\n          \"BRUKINSA is the first and only BTK inhibitor approved for follicular lymphoma in the European Union\\n\\nApproval was based on results from the ROSEWOOD trial in which BRUKINSA plus the anti-CD20 monoclonal antibody obinutuzumab achieved higher overall response rate compared to obinutuzumab alone\\n\\nBeiGene, Ltd. BGNE HKEX: 06160, SSE: 688235))), a global biotechnology company, today announced that the European Commission (EC) has granted marketing authorization for BRUKINSA\\u00ae (zanubrutinib) in combination with obinutuzumab for the treatment of adult patients with relapsed or refractory (R/R) follicular lymphoma (FL) who have received at least two prior lines of systemic therapy. This marks the fourth indication in the European Union (EU) for BRUKINSA, which is now approved to treat more patient populations in the EU than any other Bruton's tyrosine kinase (BTK) inhibitor.\\n\\n\\\"With this approval, we are excited to announce that BRUKINSA will become available as a treatment option for patients with follicular lymphoma in the European Union. BRUKINSA is now the first BTK inhibitor approved in this indication and has the broadest label of any medicine in its class globally,\\\" said Mehrdad Mobasher, M.D., M.P.H., Chief Medical Officer, Hematology at BeiGene. \\\"This milestone marks a significant advancement in our efforts to combat the disease by providing a new and effective treatment option to patients who have either failed to respond to initial therapies or have experienced a relapse.\\\"\\n\\nThe EC approval is based on positive results from ROSEWOOD (NCT03332017), a global, randomized, open-label Phase 2 study of BRUKINSA plus obinutuzumab compared with obinutuzumab alone in 217 patients with R/R FL who received at least two prior lines of systemic therapy. In the study, the overall response rate was 69.0% in the BRUKINSA plus obinutuzumab arm versus 45.8% in the obinutuzumab arm (P = 0.0012), with a median follow-up of approximately 20 months. Responses were durable with 18-month landmark duration of response (DOR) of 69.3% in the BRUKINSA combination arm.\\n\\nAdditionally, the median progression-free survival (PFS) for patients treated with BRUKINSA plus obinutuzumab was 28.0 months, compared to 10.4 months for patients treated with only obinutuzumab (HR: 0.50 [95% CI: 0.33, 0.75]; P = 0.0007).\\n\\nBRUKINSA plus obinutuzumab was generally well-tolerated, with safety results consistent with previous studies of both medicines.\\n\\n\\\"People living with follicular lymphoma often experience relapse and have poor responses to subsequent lines of therapy, making it imperative to improve outcomes,\\\" said Pier Luigi Zinzani, M.D., Ph.D., Full Professor of Haematology at the Institute of Haematology \\\"Ser\\u00e0gnoli,\\\" University of Bologna, Italy. \\\"The results from the ROSEWOOD trial demonstrated a significant clinical benefit of BRUKINSA plus obinutuzumab for patients with relapsed or refractory follicular lymphoma. BRUKINSA is a chemotherapy-free, oral treatment option that can be a practice-changing option for eligible patients with relapsed or refractory follicular lymphoma.\\\"\\n\\nIn addition to R/R FL, BRUKINSA is approved in the EU as monotherapy for the treatment of adult patients with chronic lymphocytic leukemia, for adult patients with marginal zone lymphoma who have received at least one prior anti-CD20-based therapy, and for adult patients with Waldenstr\\u00f6m's macroglobulinemia who have received at least one prior therapy, or in first-line treatment for patients unsuitable for chemo-immunotherapy.\\n\\nGerwin Winter, Senior Vice President, Head of Europe at BeiGene noted, \\\"We have made great progress in making BRUKINSA available to eligible patients with hematological malignancies globally, and this approval is a testament to our continued commitment to bring this much needed treatment option to patients in Europe and around the world. We hope that this approval will have a positive impact on the lives of many people living with follicular lymphoma in the European Union and their families.\\\"\\n\\nBeiGene currently has submissions for BRUKINSA in R/R FL under review by regulatory authorities including in the United States (U.S.) and China. Additionally, BeiGene's submission for BRUKINSA in R/R FL is under review by regulatory authorities in Canada, Switzerland, and the United Kingdom as part of the Access Consortium New Active Substance Work-sharing Initiative (NASWSI).\\n\\nBRUKINSA is approved in more than 65 markets, including the U.S., China, EU, Great Britain, Canada, Australia, South Korea, and Switzerland in selected indications and under development for additional indications globally. Product information may differ from country to country. Prescribers should consult the product information approved in their respective countries. The global BRUKINSA development program includes more than 5,000 subjects enrolled to date in 29 countries and regions.\\n\\nThe Summary of Product Characteristics for BRUKINSA can be found here: https://www.ema.europa.eu/en/documents/product-information/brukinsa-epar-product-information_en.pdf\\n\\nFL is the second most common type of non-Hodgkin lymphoma (NHL), accounting for 22 percent of all NHL cases.i Across Europe, over 122,000 people each year are diagnosed with NHL.ii FL is a slow-growing cancer but can become more aggressive over time. While FL remains incurable, people with the condition can live a long time. The five-year survival rate is about 90 percent, and approximately half of people diagnosed with FL can live with the disease for nearly 20 years.iii,iv\\n\\nBRUKINSA is a small molecule inhibitor of Bruton's tyrosine kinase (BTK) discovered by BeiGene scientists that is currently being evaluated globally in a broad clinical program as a monotherapy and in combination with other therapies to treat various B-cell malignancies. Because new BTK is continuously synthesized, BRUKINSA was specifically designed to deliver complete and sustained inhibition of the BTK protein by optimizing bioavailability, half-life, and selectivity. With differentiated pharmacokinetics compared to other approved BTK inhibitors, BRUKINSA has been demonstrated to inhibit the proliferation of malignant B cells within a number of disease relevant tissues.\\n\\nBeiGene is a global biotechnology company that is discovering and developing innovative oncology treatments that are more affordable and accessible to cancer patients worldwide. With a broad portfolio, we are expediting development of our diverse pipeline of novel therapeutics through our internal capabilities and collaborations. We are committed to radically improving access to medicines for far more patients who need them. Our growing global team of more than 10,000 colleagues spans five continents, with administrative offices in Basel, Beijing, and Cambridge, U.S. To learn more about BeiGene, please visit www.beigene.com and follow us on LinkedIn and X (formerly known as Twitter).\\n\\nThis press release contains forward-looking statements within the meaning of the Private Securities Litigation Reform Act of 1995 and other federal securities laws, including statements regarding BeiGene's ability to provide effective treatment options to patients with FL; whether BRUKINSA is a practice-changing option for eligible patients; the effect, if any, that the EC approval of BRUKINSA for R/R FL will have on people living with R/R FL and their families; BeiGene's advancement, anticipated clinical development, regulatory submissions and commercialization of zanubrutinib, particularly as a treatment for R/R FL; and BeiGene's plans, commitments, aspirations, and goals under the heading \\\"About BeiGene.\\\" Actual results may differ materially from those indicated in the forward-looking statements as a result of various important factors, including BeiGene's ability to demonstrate the efficacy and safety of its drug candidates; the clinical results for its drug candidates, which may not support further development or marketing approval; actions of regulatory agencies, which may affect the initiation, timing and progress of clinical trials and marketing approval; BeiGene's ability to achieve commercial success for its marketed medicines and drug candidates, if approved; BeiGene's ability to obtain and maintain protection of intellectual property for its medicines and technology; BeiGene's reliance on third parties to conduct drug development, manufacturing, commercialization, and other services; BeiGene's limited experience in obtaining regulatory approvals and commercializing pharmaceutical products and its ability to obtain additional funding for operations and to complete the development of its drug candidates and achieve and maintain profitability; and those risks more fully discussed in the section entitled \\\"Risk Factors\\\" in BeiGene's most recent quarterly report on Form 10-Q, as well as discussions of potential risks, uncertainties, and other important factors in BeiGene's subsequent filings with the U.S. Securities and Exchange Commission. All information in this press release is as of the date of this press release, and BeiGene undertakes no duty to update such information unless required by law.\",\n          \"Whether you dip it, drizzle it, or put it on chicken nuggets or french fries, McDonald\\u2019s sauce assortment is expanding this fall.\\n\\nThe fast food chain announced Tuesday that it's adding two new limited-edition sauces to its U.S. menu in two weeks.\\n\\nThe new sauces \\u2014 McDonald\\u2019s Sweet & Spicy Jam and McDonald\\u2019s MamboSauce \\u2014 will hit the menu on Oct. 9, according to a news release from the company.\\n\\nAre whoppers really too small?Burger King must face whopper of a lawsuit alleging burgers are too small, says judge\\n\\nWhat are McDonald's two new sauces?\\n\\nHere's more about the new limited-edition duo:\\n\\u2022 Sweet & Spicy Jam: The chain describes it as a breakfast-inspired \\\"jammy red pepper dipping sauce with a tongue-numbing Szechuan peppercorn kick.\\\" It also includes apple cider vinegar and cayenne pepper.\\n\\u2022 MamboSauce: This one is described by McD's as \\\"a tomato-based, sweet, spicy and vinegary sauce, inspired by an Washington, D.C. area sauce staple.\\\"\\n\\nThe company came up with the new sauces by exploring \\\"the incredible tastes and flavors found in communities across the country,\\\" Tariq Hassan, chief marking and customer experience officer at the chain, said in a news release.\\n\\nThe sauces \\\"live at the intersection of flavor and culture-pulling from decades of rich food history and tradition in local restaurants and home kitchens, and bringing the delicious spice, sweetness and kick of heat we know today\\u2019s customers are craving,\\\" Hassan said.\\n\\nMcD's said it's teaming up with six foodie content creators to review the sauces so they can share pairing suggestion ideas with customers on their respective TikTok channels.\\n\\nThe creators are: @Mr.Eats305, @sharidyonne, @santanakeish, @misslegarda, @natelovlogs and @blackgirlsexploredc.\\n\\n\\\"We\\u2019re passing the mic to some of our biggest sauce fans \\u2014 food content creators \\u2014 to get their authentic reactions from the very first, drizzle, dip and bite,\\\" Hassan said.\\n\\nThe creators are: @Mr.Eats305, @sharidyonne, @santanakeish, @misslegarda, @natelovlogs, and @blackgirlsexploredc.\\n\\nNatalie Neysa Alund is a senior correspondent for USA TODAY. Reach her at nalund@usatoday.com and follow her on X, the platform formerly known as Twitter @nataliealund.\",\n          \"Retailers, the makers of foods marketed for weight loss, and other types of companies could see knock-on effects from the rise of diabetes and weight loss drugs like Ozempic.\\n\\nAs they do every summer, publicly traded companies posted their second-quarter results while Americans were baring their bodies on the beach. But this year, the timing was apt. On several earnings calls in August, chief executives reassured investors that the Ozempic revolution had not left them in the dust, and that they could somehow share in the blazing success of new diabetes and weight loss drugs. \\u201cIt puts us in a good position to be a solution for those who are on the drugs,\\u201d said Dan R. Chard, the chief executive of Medifast, which makes diet products like shakes and protein bars, adding: \\u201cThey\\u2019re looking for guidance.\\u201d He told analysts this even while explaining that new-generation drugs had helped pummel earnings, down 34.7 percent year on year. \\u201cWe will continue to study this,\\u201d Michael Johnson, the chief executive of the nutritional supplement maker Herbalife, told investors. \\u201cAnd when we see an opportunity to capitalize on it, we will.\\u201d In theory, that opportunity \\u2014 both for making profits and for losing fortunes \\u2014 could be vast not only for the companies behind these drugs but also for some in completely different industries.\\n\\nKnown as GLP-1 drugs, the medications are already driving big profits. Novo Nordisk makes both Ozempic, which has been approved only for Type 2 diabetes, and its close relative Wegovy, which has been approved for weight loss. They mimic a glucagon-like peptide that regulates appetite in the brain, leaving people feeling sated for hours. Together, they helped send Novo\\u2019s earnings rocketing up 32 percent in the first half of this year, and Novo\\u2019s market value is now larger than the entire Danish economy. Eli Lilly\\u2019s sales surged 28 percent in the second quarter, thanks to another diabetes drug, Mounjaro, which the Food and Drug Administration may approve for weight loss this year. And the full potential isn\\u2019t even clear yet. The market for weight loss drugs is huge: There are roughly 750 million obese people worldwide, including about 42 percent of adults in the United States, where obesity-related illnesses incur billions of dollars in health care costs each year. But Novo says GLP-1 drugs could eventually have other uses, like helping prevent cardiovascular disease among obese adults. There are signs they could treat addiction and even Alzheimer\\u2019s, too. \\u201cThe market potential is very, very significant,\\u201d Novo\\u2019s chief financial officer, Karsten Knudsen, told me when I visited the company in June. \\u201cWe\\u2019re operating in kind of unusual territory.\\u201d\\n\\nThe ripple effects are widening. Retailers like Walmart, Kroger and Rite Aid say GLP-1 prescriptions are bringing more people into stores, where they make other purchases. Walmart\\u2019s chief executive, Doug McMillon, told analysts in August that its executives \\u201cexpect consumables, and health and wellness, primarily due to the popularity of some GLP-1 drugs, to grow as a percent of total.\\u201d Medtronic\\u2019s chief executive, Geoff Martha, said the company had seen a \\u201cmodest\\u201d dip in bariatric surgery, presumably as people opted for weight loss drugs instead. And some analysts believe the drugs could disrupt the American diet. \\u201cIf you\\u2019re eating fast food every day, you\\u2019ll probably continue to eat fast food every day,\\u201d James van Geelen of Citrinas Capital Management said on Bloomberg\\u2019s \\u201cOdd Lots\\u201d podcast. \\u201cYou will just eat a lot less of it.\\u201d Still, there is room for other approaches to fighting obesity. \\u201cThese drugs are game changers, but with an asterisk,\\u201d said David Ludwig, an obesity specialist and pediatrics professor at Harvard Medical School. (The drugs come with a long list of side effects.) \\u201cEven if you can reduce weight across the population with drugs, it\\u2019s not going to eliminate the risks of a poor diet.\\u201d Flush with cash, Novo agrees. \\u201cWe need to be looking at what\\u2019s the next thing,\\u201d its executive vice president for commercial strategy Camilla Sylvest, told me. In June, the company launched an obesity prevention unit near Copenhagen, to research how to stop the disease before people need to take drugs to lose weight. \\u2014 Vivienne Walt\\n\\nThe U.S. labor market begins to look like its old self. Employers added 187,000 jobs in August, the Labor Department reported Friday, and unemployment rose to 3.8 percent as the economy continued to lose momentum built up after pandemic lockdowns. Commerce Secretary Gina Raimondo visits China. She had the tricky task of promoting trade between the two superpowers while holding firm on technology export limits imposed in the name of American national security. The two countries agreed to create new dialogues, including a working group for commercial issues. The White House names the first drugs set for Medicare price negotiations. The long-awaited list of 10 medicines will be subject to a landmark new program meant to reduce costs for Medicare. Drugmakers have pushed back against the plan, including in court, and Republicans have criticized the initiative as government overreach. UBS reports a $29 billion quarterly profit, with an asterisk. The huge gain \\u2014 the biggest in banking history \\u2014 stems from the bank\\u2019s acquisition of its rival Credit Suisse this spring for about $3.2 billion, a steep discount that is skewing UBS\\u2019s results. But it belies the challenges that UBS faces as it moves to complete the largest takeover of a bank since the 2008 financial crisis. When Emily Weiss stepped down last year as the chief executive of Glossier, the skin care and beauty brand she founded in 2014, some called it the end of the \\u201cgirlboss.\\u201d That archetype \\u2014 of media-savvy female founders with venture-darling, millennial-focused start-ups \\u2014 had been propelled by \\u201c#Girlboss,\\u201d the Nasty Girl founder Sophia Amoruso\\u2019s 2014 memoir.\\n\\nGlossier, with its direct-to-consumer model and voice-y website, changed the way women buy makeup, eventually passing a $1 billion valuation. But the brand stumbled as it struggled to move into brick-and-mortar retail; faced criticism from retail employees who alleged a toxic, racist working environment; and shelved projects like a makeup line that departed from its dewy, barely-there look. DealBook spoke to Marisa Meltzer, author of the upcoming book \\u201cGlossy: Ambition, Beauty, and the Inside Story of Emily Weiss\\u2019s Glossier,\\u201d about what lessons we might glean from Weiss and the #Girlboss movement. This interview has been edited and condensed for clarity. Can you contextualize the #Girlboss movement? It was pretty offensive and diminutive. No one except for Sophia was calling themselves out as a girlboss. But it was also something that benefited them because it attracted interest. It was a way for them to get press about their businesses that wasn\\u2019t the typical things that female founders and C.E.O.s sometimes had to do, like a fashion spread.\\n\\nThere was a big debate at the time over whether the press would have covered the scandals at companies like Outdoor Voices, Man Repeller and Glossier differently if they had men at the helm. What do you think? I think there was a bit of a thirst for blood. These women had been propped up in a way that was kind of annoying \\u2014 I\\u2019m sure it was annoying to them, too. Some of those companies had real problems, like being sued over firing pregnant employees. And other companies had, like Glossier, an accusation of having a workplace, largely for their retail employees, that wasn\\u2019t ideal. That\\u2019s different than criminal behavior. The reality is these companies weren\\u2019t the same. The women at their helms were not all the same. And they weren\\u2019t making the same mistakes. And they also didn\\u2019t have the same level of success. What happens to Glossier now? Glossier seems to have taken the time since Emily stepped down to re-evaluate. They decided to really belatedly go into retail. They launched in Sephora last February. The larger task that they\\u2019re trying to do is make the company in better shape for an exit.\"\n        ],\n        \"semantic_type\": \"\",\n        \"description\": \"\"\n      }\n    }\n  ]\n}"
            }
          },
          "metadata": {},
          "execution_count": 22
        }
      ]
    },
    {
      "cell_type": "markdown",
      "source": [
        "# cleaning the text by removing stopwords, stemming words\n",
        "\n"
      ],
      "metadata": {
        "id": "b1mu5dJKxab_"
      }
    },
    {
      "cell_type": "code",
      "source": [
        "import nltk\n",
        "from nltk.corpus import stopwords\n",
        "from nltk.stem import PorterStemmer\n",
        "import re\n",
        "\n",
        "# Ensure NLTK data is downloaded\n",
        "nltk.download('punkt')\n",
        "nltk.download('stopwords')\n",
        "\n",
        "def clean_article(text):\n",
        "    tokens = nltk.word_tokenize(text)\n",
        "    tokens = [token.lower() for token in tokens]\n",
        "    stop_words = set(stopwords.words('english'))\n",
        "    tokens = [token for token in tokens if token not in stop_words]\n",
        "    tokens = [re.sub(r'[^\\w\\s]', '', token) for token in tokens]\n",
        "    stemmer = PorterStemmer()\n",
        "    tokens = [stemmer.stem(token) for token in tokens]\n",
        "    return ' '.join(tokens)\n",
        "\n",
        "# Assuming 'text' is the column with the articles\n",
        "df['cleaned_text'] = df['Article'].apply(clean_article)"
      ],
      "metadata": {
        "colab": {
          "base_uri": "https://localhost:8080/"
        },
        "id": "bQEdfGMKz1lQ",
        "outputId": "3ae85b95-ae28-489b-def6-8ff476902b2d"
      },
      "execution_count": 23,
      "outputs": [
        {
          "output_type": "stream",
          "name": "stderr",
          "text": [
            "[nltk_data] Downloading package punkt to /root/nltk_data...\n",
            "[nltk_data]   Package punkt is already up-to-date!\n",
            "[nltk_data] Downloading package stopwords to /root/nltk_data...\n",
            "[nltk_data]   Package stopwords is already up-to-date!\n"
          ]
        }
      ]
    },
    {
      "cell_type": "code",
      "source": [
        "df.rename(columns={'Article': 'Article (Original)'}, inplace=True)"
      ],
      "metadata": {
        "id": "NbWciXnNpphE"
      },
      "execution_count": 27,
      "outputs": []
    },
    {
      "cell_type": "code",
      "source": [
        "df['cleaned_text'].head()"
      ],
      "metadata": {
        "colab": {
          "base_uri": "https://localhost:8080/"
        },
        "id": "rRuan8jV1a-a",
        "outputId": "d004ff22-bd2d-422d-d9aa-4613d75b34d6"
      },
      "execution_count": 24,
      "outputs": [
        {
          "output_type": "execute_result",
          "data": {
            "text/plain": [
              "0    retail  maker food market weight loss  type co...\n",
              "1    move  ozemp   new drug town  eli lilli  zepbou...\n",
              "2    sept 14  reuter   bristol myer squibb  bmyn  s...\n",
              "3    austin wolcott 18 year old pretti sure  surviv...\n",
              "4    cancer  often refer  emperor maladi   unyield ...\n",
              "Name: cleaned_text, dtype: object"
            ]
          },
          "metadata": {},
          "execution_count": 24
        }
      ]
    },
    {
      "cell_type": "code",
      "source": [
        "import pandas as pd\n",
        "\n",
        "# Assuming 'df' is your DataFrame loaded from the Excel file\n",
        "# And assuming 'cleaned_text' is the column with the cleaned articles\n",
        "\n",
        "# Check if 'Article' column exists in the DataFrame\n",
        "if 'Article (Original)' in df.columns:\n",
        "    # Create a new column 'Article (Cleaned)' and fill it with the cleaned text\n",
        "    df['Article (Cleaned)'] = df['cleaned_text']\n",
        "else:\n",
        "    print(\"Column 'Article' does not exist in the DataFrame.\")\n",
        "df.rename(columns={'Article': 'Article (Original)'}, inplace=True)\n",
        "\n",
        "# Display the modified DataFrame\n",
        "print (df.head())"
      ],
      "metadata": {
        "colab": {
          "base_uri": "https://localhost:8080/"
        },
        "id": "FQTyTZSQooYU",
        "outputId": "78e79ee5-7684-41ad-c82a-731160e76538"
      },
      "execution_count": 31,
      "outputs": [
        {
          "output_type": "stream",
          "name": "stdout",
          "text": [
            "                                  Article (Original)  \\\n",
            "0  Retailers, the makers of foods marketed for we...   \n",
            "1  Move over, Ozempic — there’s a new drug in tow...   \n",
            "2  Sept 14 (Reuters) - Bristol Myers Squibb (BMY....   \n",
            "3  Austin Wolcott was 18 years old and pretty sur...   \n",
            "4  Cancer, often referred to as the “emperor of a...   \n",
            "\n",
            "                                        cleaned_text  \\\n",
            "0  retail  maker food market weight loss  type co...   \n",
            "1  move  ozemp   new drug town  eli lilli  zepbou...   \n",
            "2  sept 14  reuter   bristol myer squibb  bmyn  s...   \n",
            "3  austin wolcott 18 year old pretti sure  surviv...   \n",
            "4  cancer  often refer  emperor maladi   unyield ...   \n",
            "\n",
            "                                   Article (Cleaned)  \n",
            "0  retail  maker food market weight loss  type co...  \n",
            "1  move  ozemp   new drug town  eli lilli  zepbou...  \n",
            "2  sept 14  reuter   bristol myer squibb  bmyn  s...  \n",
            "3  austin wolcott 18 year old pretti sure  surviv...  \n",
            "4  cancer  often refer  emperor maladi   unyield ...  \n"
          ]
        }
      ]
    },
    {
      "cell_type": "markdown",
      "source": [
        "# Clean Up Articles\n",
        "## show the Article (Original) and Article (Cleaned)"
      ],
      "metadata": {
        "id": "PsmdNKuQqpu4"
      }
    },
    {
      "cell_type": "code",
      "source": [
        "\n",
        "display_columns = ['Article (Original)', 'Article (Cleaned)']\n",
        "print(df[display_columns].head())"
      ],
      "metadata": {
        "colab": {
          "base_uri": "https://localhost:8080/"
        },
        "id": "yTq_1hx2qck9",
        "outputId": "7a5f20fc-175d-4dbc-e79e-7b4092077b83"
      },
      "execution_count": 32,
      "outputs": [
        {
          "output_type": "stream",
          "name": "stdout",
          "text": [
            "                                  Article (Original)  \\\n",
            "0  Retailers, the makers of foods marketed for we...   \n",
            "1  Move over, Ozempic — there’s a new drug in tow...   \n",
            "2  Sept 14 (Reuters) - Bristol Myers Squibb (BMY....   \n",
            "3  Austin Wolcott was 18 years old and pretty sur...   \n",
            "4  Cancer, often referred to as the “emperor of a...   \n",
            "\n",
            "                                   Article (Cleaned)  \n",
            "0  retail  maker food market weight loss  type co...  \n",
            "1  move  ozemp   new drug town  eli lilli  zepbou...  \n",
            "2  sept 14  reuter   bristol myer squibb  bmyn  s...  \n",
            "3  austin wolcott 18 year old pretti sure  surviv...  \n",
            "4  cancer  often refer  emperor maladi   unyield ...  \n"
          ]
        }
      ]
    },
    {
      "cell_type": "code",
      "source": [
        "df.columns"
      ],
      "metadata": {
        "colab": {
          "base_uri": "https://localhost:8080/"
        },
        "id": "af_rfHB0p3wg",
        "outputId": "5bcab49c-6261-46c0-dae9-8aeae5ef82fb"
      },
      "execution_count": 29,
      "outputs": [
        {
          "output_type": "execute_result",
          "data": {
            "text/plain": [
              "Index(['Article (Original)', 'cleaned_text', 'Article (Cleaned)'], dtype='object')"
            ]
          },
          "metadata": {},
          "execution_count": 29
        }
      ]
    },
    {
      "cell_type": "code",
      "source": [
        "df.rename(columns={ 'Article (Original)':'Article'}, inplace=True)"
      ],
      "metadata": {
        "id": "sOTHJS99rh7c"
      },
      "execution_count": 34,
      "outputs": []
    },
    {
      "cell_type": "markdown",
      "source": [
        "#  Determines the overall mood of each article using TextBlob."
      ],
      "metadata": {
        "id": "83l5cp5nyDIH"
      }
    },
    {
      "cell_type": "code",
      "source": [
        "from textblob import TextBlob\n",
        "\n",
        "def check_mood(text):\n",
        "    blob = TextBlob(text)\n",
        "    if blob.sentiment.polarity > 0:\n",
        "        return \"Positive\"\n",
        "    elif blob.sentiment.polarity == 0:\n",
        "        return \"Neutral\"\n",
        "    else:\n",
        "        return \"Negative\"\n",
        "\n",
        "df['mood'] = df['cleaned_text'].apply(check_mood)"
      ],
      "metadata": {
        "id": "qfU2yljg1xe6"
      },
      "execution_count": 35,
      "outputs": []
    },
    {
      "cell_type": "code",
      "source": [
        "df['mood'].head()"
      ],
      "metadata": {
        "colab": {
          "base_uri": "https://localhost:8080/"
        },
        "id": "MdG-Le8B2GxG",
        "outputId": "010fba08-fadf-46ba-8caa-e68f1cf49607"
      },
      "execution_count": 7,
      "outputs": [
        {
          "output_type": "execute_result",
          "data": {
            "text/plain": [
              "0    Positive\n",
              "1    Negative\n",
              "2    Positive\n",
              "3    Positive\n",
              "4    Positive\n",
              "Name: mood, dtype: object"
            ]
          },
          "metadata": {},
          "execution_count": 7
        }
      ]
    },
    {
      "cell_type": "markdown",
      "source": [
        "# Checking the Mood"
      ],
      "metadata": {
        "id": "KiqEtP9ssEV1"
      }
    },
    {
      "cell_type": "code",
      "source": [
        "\n",
        "display_columns = ['Article', 'mood']\n",
        "print(df[display_columns].head())"
      ],
      "metadata": {
        "colab": {
          "base_uri": "https://localhost:8080/"
        },
        "id": "fLJcevB_r7L3",
        "outputId": "4d9a7941-11e5-4643-c891-aaaebe976b6e"
      },
      "execution_count": 36,
      "outputs": [
        {
          "output_type": "stream",
          "name": "stdout",
          "text": [
            "                                             Article      mood\n",
            "0  Retailers, the makers of foods marketed for we...  Positive\n",
            "1  Move over, Ozempic — there’s a new drug in tow...  Negative\n",
            "2  Sept 14 (Reuters) - Bristol Myers Squibb (BMY....  Positive\n",
            "3  Austin Wolcott was 18 years old and pretty sur...  Positive\n",
            "4  Cancer, often referred to as the “emperor of a...  Positive\n"
          ]
        }
      ]
    },
    {
      "cell_type": "markdown",
      "source": [
        "# Common Words Identification: Identifies the most frequently occurring words across all articles."
      ],
      "metadata": {
        "id": "rN8ByGU6yLSv"
      }
    },
    {
      "cell_type": "code",
      "source": [
        "from collections import Counter\n",
        "import string\n",
        "\n",
        "def find_common_words(df, top_n=10):\n",
        "    all_words = []\n",
        "    for text in df['cleaned_text']:\n",
        "        words = text.split()\n",
        "        all_words.extend(words)\n",
        "\n",
        "    word_counts = Counter(all_words)\n",
        "    common_words = word_counts.most_common(top_n)\n",
        "\n",
        "    return common_words\n",
        "\n",
        "common_words = find_common_words(df)\n",
        "print(common_words)"
      ],
      "metadata": {
        "colab": {
          "base_uri": "https://localhost:8080/"
        },
        "id": "p3rpc5RE2ISM",
        "outputId": "78622cd2-33d5-4b73-800e-51095ddd1b00"
      },
      "execution_count": 8,
      "outputs": [
        {
          "output_type": "stream",
          "name": "stdout",
          "text": [
            "[('nike', 129), ('s', 116), ('firm', 60), ('cancer', 59), ('compani', 56), ('new', 56), ('account', 56), ('therapi', 55), ('market', 52), ('also', 48)]\n"
          ]
        }
      ]
    },
    {
      "cell_type": "markdown",
      "source": [
        "# Finding Connections"
      ],
      "metadata": {
        "id": "NlNywiKy3k_w"
      }
    },
    {
      "cell_type": "code",
      "source": [
        "import gensim\n",
        "from gensim.utils import simple_preprocess\n",
        "from gensim.parsing.preprocessing import STOPWORDS\n",
        "\n",
        "def preprocess(text):\n",
        "    result = []\n",
        "    for token in gensim.utils.simple_preprocess(text):\n",
        "        if token not in gensim.parsing.preprocessing.STOPWORDS and len(token) > 3:\n",
        "            result.append(token)\n",
        "    return result\n",
        "\n",
        "processed_docs = df['cleaned_text'].map(preprocess)\n",
        "\n",
        "dictionary = gensim.corpora.Dictionary(processed_docs)\n",
        "bow_corpus = [dictionary.doc2bow(doc) for doc in processed_docs]\n",
        "\n",
        "# Train LDA model\n",
        "lda_model = gensim.models.LdaModel(bow_corpus,\n",
        "                                   id2word=dictionary,\n",
        "                                   num_topics=10,\n",
        "                                   random_state=100,\n",
        "                                   chunksize=200,\n",
        "                                   passes=20)\n",
        "\n",
        "# Print the topics found by the LDA model\n",
        "for idx, topic in lda_model.print_topics(-1):\n",
        "    print(f'Topic #{idx}: {topic}')"
      ],
      "metadata": {
        "colab": {
          "base_uri": "https://localhost:8080/"
        },
        "id": "TtWauYt-3b3Q",
        "outputId": "42c6099d-9da9-4112-bb6d-41c3242d03fd"
      },
      "execution_count": 9,
      "outputs": [
        {
          "output_type": "stream",
          "name": "stdout",
          "text": [
            "Topic #0: 0.026*\"nike\" + 0.021*\"strava\" + 0.017*\"cart\" + 0.016*\"club\" + 0.014*\"cancer\" + 0.012*\"tcell\" + 0.010*\"cell\" + 0.010*\"therapi\" + 0.010*\"user\" + 0.008*\"platform\"\n",
            "Topic #1: 0.031*\"nike\" + 0.019*\"firm\" + 0.012*\"market\" + 0.011*\"product\" + 0.010*\"cancer\" + 0.009*\"believ\" + 0.009*\"therapi\" + 0.007*\"brand\" + 0.007*\"increas\" + 0.006*\"cart\"\n",
            "Topic #2: 0.011*\"compani\" + 0.008*\"file\" + 0.008*\"claim\" + 0.006*\"food\" + 0.006*\"said\" + 0.006*\"lawsuit\" + 0.006*\"burger\" + 0.006*\"kelli\" + 0.006*\"beverag\" + 0.006*\"fals\"\n",
            "Topic #3: 0.054*\"taco\" + 0.030*\"bell\" + 0.017*\"order\" + 0.014*\"nacho\" + 0.012*\"menu\" + 0.011*\"sale\" + 0.009*\"free\" + 0.009*\"quarter\" + 0.009*\"estim\" + 0.009*\"mcdonald\"\n",
            "Topic #4: 0.027*\"unilev\" + 0.021*\"foundat\" + 0.012*\"chariti\" + 0.009*\"cancer\" + 0.009*\"accord\" + 0.009*\"court\" + 0.009*\"lawsuit\" + 0.006*\"patient\" + 0.006*\"inform\" + 0.006*\"said\"\n",
            "Topic #5: 0.013*\"obes\" + 0.011*\"drug\" + 0.009*\"brand\" + 0.009*\"said\" + 0.009*\"compani\" + 0.008*\"manag\" + 0.007*\"restaur\" + 0.007*\"nestl\" + 0.007*\"weight\" + 0.007*\"diabet\"\n",
            "Topic #6: 0.018*\"said\" + 0.016*\"bristol\" + 0.016*\"therapi\" + 0.013*\"blood\" + 0.011*\"cell\" + 0.011*\"drug\" + 0.010*\"treatment\" + 0.010*\"compani\" + 0.009*\"cancer\" + 0.008*\"approv\"\n",
            "Topic #7: 0.060*\"account\" + 0.025*\"open\" + 0.024*\"fargo\" + 0.023*\"check\" + 0.019*\"bank\" + 0.016*\"bonu\" + 0.016*\"save\" + 0.015*\"offer\" + 0.012*\"sauc\" + 0.011*\"deposit\"\n",
            "Topic #8: 0.015*\"drug\" + 0.014*\"brukinsa\" + 0.012*\"beigen\" + 0.011*\"approv\" + 0.011*\"patient\" + 0.009*\"compani\" + 0.007*\"global\" + 0.006*\"peopl\" + 0.006*\"obinutuzumab\" + 0.006*\"market\"\n",
            "Topic #9: 0.024*\"deliveri\" + 0.024*\"drone\" + 0.021*\"restaur\" + 0.013*\"food\" + 0.013*\"chickfila\" + 0.008*\"custom\" + 0.008*\"fast\" + 0.005*\"compani\" + 0.005*\"said\" + 0.005*\"servic\"\n"
          ]
        }
      ]
    },
    {
      "cell_type": "code",
      "source": [
        "pip install pyLDAvis"
      ],
      "metadata": {
        "colab": {
          "base_uri": "https://localhost:8080/"
        },
        "id": "OFIaLrvz2GS4",
        "outputId": "aab2e6fc-02fb-44b8-aca0-387fed37dfde"
      },
      "execution_count": 38,
      "outputs": [
        {
          "output_type": "stream",
          "name": "stdout",
          "text": [
            "Collecting pyLDAvis\n",
            "  Downloading pyLDAvis-3.4.1-py3-none-any.whl (2.6 MB)\n",
            "\u001b[2K     \u001b[90m━━━━━━━━━━━━━━━━━━━━━━━━━━━━━━━━━━━━━━━━\u001b[0m \u001b[32m2.6/2.6 MB\u001b[0m \u001b[31m25.0 MB/s\u001b[0m eta \u001b[36m0:00:00\u001b[0m\n",
            "\u001b[?25hRequirement already satisfied: numpy>=1.24.2 in /usr/local/lib/python3.10/dist-packages (from pyLDAvis) (1.25.2)\n",
            "Requirement already satisfied: scipy in /usr/local/lib/python3.10/dist-packages (from pyLDAvis) (1.11.4)\n",
            "Requirement already satisfied: pandas>=2.0.0 in /usr/local/lib/python3.10/dist-packages (from pyLDAvis) (2.0.3)\n",
            "Requirement already satisfied: joblib>=1.2.0 in /usr/local/lib/python3.10/dist-packages (from pyLDAvis) (1.4.2)\n",
            "Requirement already satisfied: jinja2 in /usr/local/lib/python3.10/dist-packages (from pyLDAvis) (3.1.4)\n",
            "Requirement already satisfied: numexpr in /usr/local/lib/python3.10/dist-packages (from pyLDAvis) (2.10.0)\n",
            "Collecting funcy (from pyLDAvis)\n",
            "  Downloading funcy-2.0-py2.py3-none-any.whl (30 kB)\n",
            "Requirement already satisfied: scikit-learn>=1.0.0 in /usr/local/lib/python3.10/dist-packages (from pyLDAvis) (1.2.2)\n",
            "Requirement already satisfied: gensim in /usr/local/lib/python3.10/dist-packages (from pyLDAvis) (4.3.2)\n",
            "Requirement already satisfied: setuptools in /usr/local/lib/python3.10/dist-packages (from pyLDAvis) (67.7.2)\n",
            "Requirement already satisfied: python-dateutil>=2.8.2 in /usr/local/lib/python3.10/dist-packages (from pandas>=2.0.0->pyLDAvis) (2.8.2)\n",
            "Requirement already satisfied: pytz>=2020.1 in /usr/local/lib/python3.10/dist-packages (from pandas>=2.0.0->pyLDAvis) (2023.4)\n",
            "Requirement already satisfied: tzdata>=2022.1 in /usr/local/lib/python3.10/dist-packages (from pandas>=2.0.0->pyLDAvis) (2024.1)\n",
            "Requirement already satisfied: threadpoolctl>=2.0.0 in /usr/local/lib/python3.10/dist-packages (from scikit-learn>=1.0.0->pyLDAvis) (3.5.0)\n",
            "Requirement already satisfied: smart-open>=1.8.1 in /usr/local/lib/python3.10/dist-packages (from gensim->pyLDAvis) (6.4.0)\n",
            "Requirement already satisfied: MarkupSafe>=2.0 in /usr/local/lib/python3.10/dist-packages (from jinja2->pyLDAvis) (2.1.5)\n",
            "Requirement already satisfied: six>=1.5 in /usr/local/lib/python3.10/dist-packages (from python-dateutil>=2.8.2->pandas>=2.0.0->pyLDAvis) (1.16.0)\n",
            "Installing collected packages: funcy, pyLDAvis\n",
            "Successfully installed funcy-2.0 pyLDAvis-3.4.1\n"
          ]
        }
      ]
    },
    {
      "cell_type": "code",
      "source": [
        "import gensim\n",
        "import gensim.corpora as corpora\n",
        "from gensim.models.ldamodel import LdaModel\n",
        "from pprint import pprint\n",
        "import matplotlib.pyplot as plt\n",
        "import pyLDAvis.gensim_models as gensimvis\n",
        "import pyLDAvis\n",
        "import nltk\n",
        "from nltk.corpus import stopwords\n",
        "from nltk.tokenize import word_tokenize\n",
        "\n",
        "# Sample articles (replace this with your actual articles)\n",
        "articles = [\n",
        "    \"Artificial intelligence is revolutionizing industries...\",\n",
        "    \"Cybersecurity threats are increasing rapidly...\",\n",
        "    \"Digital transformation is transforming healthcare...\"\n",
        "\n",
        "]\n",
        "\n",
        "# Preprocessing\n",
        "stop_words = set(nltk.corpus.stopwords.words('english'))\n",
        "\n",
        "def preprocess(text):\n",
        "    # Tokenization\n",
        "    tokens = word_tokenize(text)\n",
        "    # Remove stopwords\n",
        "    tokens = [token for token in tokens if token not in stop_words]\n",
        "    # Stemming\n",
        "    stemmer = nltk.stem.PorterStemmer()\n",
        "    tokens = [stemmer.stem(token) for token in tokens]\n",
        "    return tokens\n",
        "\n",
        "# Preprocess each article\n",
        "corpus = [preprocess(article) for article in articles]\n",
        "\n",
        "# Creating the term dictionary of our corpus, where every unique word is assigned an index.\n",
        "dictionary = corpora.Dictionary(corpus)\n",
        "\n",
        "# Converting list of integers into a bag of words corpus\n",
        "bow_corpus = [dictionary.doc2bow(text) for text in corpus]\n",
        "\n",
        "# Training the LDA model\n",
        "lda_model = gensim.models.ldamodel.LdaModel(bow_corpus,\n",
        "                                             num_topics=3,  # Number of topics\n",
        "                                             id2word=dictionary,\n",
        "                                             passes=50,  # Number of times the algorithm iterates over the corpus\n",
        "                                             chunksize=200,  # Number of documents to be passed together to the model\n",
        "                                             alpha='auto',  # Alpha parameter\n",
        "                                             per_word_topics=False)\n",
        "\n",
        "# Printing the topics found by the LDA model\n",
        "pprint(lda_model.print_topics(num_words=4))"
      ],
      "metadata": {
        "colab": {
          "base_uri": "https://localhost:8080/"
        },
        "id": "uwD1Ryo_3OaH",
        "outputId": "9386b1f8-7d0a-4fec-d323-a204e66f1b67"
      },
      "execution_count": 40,
      "outputs": [
        {
          "output_type": "stream",
          "name": "stderr",
          "text": [
            "/usr/local/lib/python3.10/dist-packages/ipykernel/ipkernel.py:283: DeprecationWarning: `should_run_async` will not call `transform_cell` automatically in the future. Please pass the result to `transformed_cell` argument and any exception that happen during thetransform in `preprocessing_exc_tuple` in IPython 7.17 and above.\n",
            "  and should_run_async(code)\n"
          ]
        },
        {
          "output_type": "stream",
          "name": "stdout",
          "text": [
            "[(0, '0.083*\"...\" + 0.083*\"transform\" + 0.083*\"cybersecur\" + 0.083*\"threat\"'),\n",
            " (1, '0.167*\"...\" + 0.167*\"transform\" + 0.095*\"increas\" + 0.095*\"threat\"'),\n",
            " (2,\n",
            "  '0.148*\"intellig\" + 0.148*\"industri\" + 0.148*\"artifici\" + '\n",
            "  '0.148*\"revolution\"')]\n"
          ]
        }
      ]
    },
    {
      "cell_type": "code",
      "source": [
        "# Select a subset of documents from each topic for manual review\n",
        "num_documents_per_review = 5  # Adjust based on your needs\n",
        "selected_articles = []\n",
        "\n",
        "for topic, count in topic_counts.items():\n",
        "    selected_articles.extend(lda_model.show_topic(topic, topn=num_documents_per_review))\n",
        "\n",
        "# Print the selected articles\n",
        "for article in selected_articles:\n",
        "    print(article)"
      ],
      "metadata": {
        "colab": {
          "base_uri": "https://localhost:8080/"
        },
        "id": "9A0TYGHJ4vk1",
        "outputId": "6bf60d5a-e563-4d94-c31d-d664f814f33b"
      },
      "execution_count": 11,
      "outputs": [
        {
          "output_type": "stream",
          "name": "stdout",
          "text": [
            "('nike', 0.025845312)\n",
            "('strava', 0.020839963)\n",
            "('cart', 0.01725603)\n",
            "('club', 0.015825346)\n",
            "('cancer', 0.013674422)\n",
            "('nike', 0.031256136)\n",
            "('firm', 0.019167475)\n",
            "('market', 0.012454602)\n",
            "('product', 0.01077593)\n",
            "('cancer', 0.009818687)\n"
          ]
        }
      ]
    },
    {
      "cell_type": "code",
      "source": [
        "from nltk.tokenize import sent_tokenize, word_tokenize"
      ],
      "metadata": {
        "id": "0ASWVv7lnAHS"
      },
      "execution_count": 14,
      "outputs": []
    },
    {
      "cell_type": "code",
      "source": [
        "from textblob import TextBlob\n",
        "\n",
        "def analyze_aspect_sentiment(text, aspect):\n",
        "    # Tokenize sentences\n",
        "    sentences = sent_tokenize(text)\n",
        "    # Filter sentences containing the aspect\n",
        "    relevant_sentences = [sentence for sentence in sentences if aspect in sentence.lower()]\n",
        "    # Combine relevant sentences\n",
        "    combined_text = ' '.join(relevant_sentences)\n",
        "    # Annotate sentiment\n",
        "    analysis = TextBlob(combined_text)\n",
        "    return analysis.sentiment.polarity"
      ],
      "metadata": {
        "id": "Zo25ADUJmuT-"
      },
      "execution_count": 15,
      "outputs": []
    },
    {
      "cell_type": "code",
      "source": [
        "# Assuming selected_articles is a list of tuples from show_topic\n",
        "# Extract text from tuples and store them in a separate list\n",
        "texts_for_analysis = [article[0] for article in selected_articles]\n",
        "\n",
        "# Now, analyze sentiment of extracted texts\n",
        "for text in texts_for_analysis:\n",
        "    sentiment = analyze_sentiment(text)"
      ],
      "metadata": {
        "colab": {
          "base_uri": "https://localhost:8080/"
        },
        "id": "USDJRVua53zv",
        "outputId": "3864f763-1416-4226-b5c9-9458d14f59fa"
      },
      "execution_count": 21,
      "outputs": [
        {
          "output_type": "stream",
          "name": "stdout",
          "text": [
            "Sentiment: Neutral\n",
            "Sentiment: Neutral\n",
            "Sentiment: Neutral\n",
            "Sentiment: Neutral\n",
            "Sentiment: Neutral\n",
            "Sentiment: Neutral\n",
            "Sentiment: Neutral\n",
            "Sentiment: Neutral\n",
            "Sentiment: Neutral\n",
            "Sentiment: Neutral\n"
          ]
        }
      ]
    },
    {
      "cell_type": "markdown",
      "source": [
        "# Aspect Analysis (Optional)"
      ],
      "metadata": {
        "id": "ZVzkCPlnFIyh"
      }
    },
    {
      "cell_type": "code",
      "source": [
        "import spacy\n",
        "from textblob import TextBlob\n",
        "\n",
        "# Load SpaCy model\n",
        "nlp = spacy.load(\"en_core_web_sm\")\n",
        "\n",
        "# Assuming 'df' is your DataFrame and it has a column named 'Article'\n",
        "# Function to analyze sentiment towards specific aspects\n",
        "def analyze_sentiment_for_aspects(text):\n",
        "    doc = nlp(text)\n",
        "    aspects = []\n",
        "    for ent in doc.ents:\n",
        "        # Filter entities based on your criteria (e.g., label, category)\n",
        "        if ent.label_ == \"ORG\" or ent.label_ == \"GPE\":  # Example criteria\n",
        "            aspects.append(ent.text)\n",
        "\n",
        "    results = {}\n",
        "    for aspect in aspects:\n",
        "        blob = TextBlob(aspect)\n",
        "        sentiment = blob.sentiment.polarity\n",
        "        results[aspect] = sentiment\n",
        "\n",
        "    return results\n",
        "\n",
        "# Initialize a new column in the DataFrame for aspect analysis results\n",
        "df['Aspect Analysis'] = \"\"\n",
        "\n",
        "# Perform aspect analysis for each article and update the new column\n",
        "for index, row in df.iterrows():\n",
        "    article = row['Article']\n",
        "    aspect_analysis = analyze_sentiment_for_aspects(article)\n",
        "    # Convert the aspect analysis dictionary to a string for easy appending\n",
        "    aspect_analysis_str = str(aspect_analysis)\n",
        "    df.at[index, 'Aspect Analysis'] = aspect_analysis_str\n",
        "\n",
        "# Display the modified DataFrame\n",
        "print(df)"
      ],
      "metadata": {
        "colab": {
          "base_uri": "https://localhost:8080/"
        },
        "id": "qHfMdmdxBGHv",
        "outputId": "a6414814-5c80-4fb1-8305-0aa5a7145284"
      },
      "execution_count": 43,
      "outputs": [
        {
          "output_type": "stream",
          "name": "stderr",
          "text": [
            "/usr/local/lib/python3.10/dist-packages/ipykernel/ipkernel.py:283: DeprecationWarning: `should_run_async` will not call `transform_cell` automatically in the future. Please pass the result to `transformed_cell` argument and any exception that happen during thetransform in `preprocessing_exc_tuple` in IPython 7.17 and above.\n",
            "  and should_run_async(code)\n"
          ]
        },
        {
          "output_type": "stream",
          "name": "stdout",
          "text": [
            "                                              Article  \\\n",
            "0   Retailers, the makers of foods marketed for we...   \n",
            "1   Move over, Ozempic — there’s a new drug in tow...   \n",
            "2   Sept 14 (Reuters) - Bristol Myers Squibb (BMY....   \n",
            "3   Austin Wolcott was 18 years old and pretty sur...   \n",
            "4   Cancer, often referred to as the “emperor of a...   \n",
            "5   Nov 28 (Reuters) - The U.S. Food and Drug Admi...   \n",
            "6   Nov 21 (Reuters) - BeiGene (6160.HK) said on T...   \n",
            "7   Sept 19 (Reuters) - Drugmaker BeiGene (6160.HK...   \n",
            "8   BRUKINSA is the first and only BTK inhibitor a...   \n",
            "9   Whether you're looking for a quick bite to eat...   \n",
            "10  A federal judge in New York has dismissed a la...   \n",
            "11  The future of fast food delivery is here.\\n\\nD...   \n",
            "12  Yum Brands topped Wall Street estimates for th...   \n",
            "13  If you fancy Taco Bell's Nacho Fries, the fast...   \n",
            "14  Taco Bell is serving up its new Toasted Breakf...   \n",
            "15  Oct 30 (Reuters) - McDonald's (MCD.N) beat Wal...   \n",
            "16  Whether you dip it, drizzle it, or put it on c...   \n",
            "17  The parent company of Taco Bell, KFC and Pizza...   \n",
            "18  Having announced a collaboration with Nike in ...   \n",
            "19  Strava has now made it possible for the Nike R...   \n",
            "20  Nike (NYSE:NKE) is the leader when it comes to...   \n",
            "21  Oct 23 (Reuters) - Unilever (ULVR.L) and a cha...   \n",
            "22  LONDON, Sept 19 (Reuters) - Nestle said on Tue...   \n",
            "23  Get Smart About News, modeled on the Sift, is ...   \n",
            "24  Editorial Note: Blueprint may earn a commissio...   \n",
            "\n",
            "                                         cleaned_text  \\\n",
            "0   retail  maker food market weight loss  type co...   \n",
            "1   move  ozemp   new drug town  eli lilli  zepbou...   \n",
            "2   sept 14  reuter   bristol myer squibb  bmyn  s...   \n",
            "3   austin wolcott 18 year old pretti sure  surviv...   \n",
            "4   cancer  often refer  emperor maladi   unyield ...   \n",
            "5   nov 28  reuter   us food drug administr  fda  ...   \n",
            "6   nov 21  reuter   beigen  6160hk  said tuesday ...   \n",
            "7   sept 19  reuter   drugmak beigen  6160hk  said...   \n",
            "8   brukinsa first btk inhibitor approv follicular...   \n",
            "9   whether re look quick bite eat  sitdown experi...   \n",
            "10  feder judg new york dismiss lawsuit accus mcdo...   \n",
            "11  futur fast food deliveri  diner within 12mile ...   \n",
            "12  yum brand top wall street estim thirdquart res...   \n",
            "13  fanci taco bell s nacho fri  fastfood chain tw...   \n",
            "14  taco bell serv new toast breakfast taco give a...   \n",
            "15  oct 30  reuter   mcdonald s  mcdn  beat wall s...   \n",
            "16  whether dip  drizzl  put chicken nugget french...   \n",
            "17  parent compani taco bell  kfc pizza hut use ar...   \n",
            "18  announc collabor nike may 2023  strava launch ...   \n",
            "19  strava made possibl nike run club  nrc  nike t...   \n",
            "20  nike  nyse  nke  leader come consum sportswear...   \n",
            "21  oct 23  reuter   unilev  ulvrl  chariti suppor...   \n",
            "22  london  sept 19  reuter   nestl said tuesday p...   \n",
            "23  get smart news  model sift  free weekli newsle...   \n",
            "24  editori note  blueprint may earn commiss affil...   \n",
            "\n",
            "                                    Article (Cleaned)      mood  \\\n",
            "0   retail  maker food market weight loss  type co...  Positive   \n",
            "1   move  ozemp   new drug town  eli lilli  zepbou...  Negative   \n",
            "2   sept 14  reuter   bristol myer squibb  bmyn  s...  Positive   \n",
            "3   austin wolcott 18 year old pretti sure  surviv...  Positive   \n",
            "4   cancer  often refer  emperor maladi   unyield ...  Positive   \n",
            "5   nov 28  reuter   us food drug administr  fda  ...  Positive   \n",
            "6   nov 21  reuter   beigen  6160hk  said tuesday ...  Positive   \n",
            "7   sept 19  reuter   drugmak beigen  6160hk  said...  Positive   \n",
            "8   brukinsa first btk inhibitor approv follicular...  Positive   \n",
            "9   whether re look quick bite eat  sitdown experi...  Positive   \n",
            "10  feder judg new york dismiss lawsuit accus mcdo...  Positive   \n",
            "11  futur fast food deliveri  diner within 12mile ...  Positive   \n",
            "12  yum brand top wall street estim thirdquart res...  Positive   \n",
            "13  fanci taco bell s nacho fri  fastfood chain tw...  Positive   \n",
            "14  taco bell serv new toast breakfast taco give a...  Positive   \n",
            "15  oct 30  reuter   mcdonald s  mcdn  beat wall s...  Positive   \n",
            "16  whether dip  drizzl  put chicken nugget french...  Positive   \n",
            "17  parent compani taco bell  kfc pizza hut use ar...  Positive   \n",
            "18  announc collabor nike may 2023  strava launch ...  Positive   \n",
            "19  strava made possibl nike run club  nrc  nike t...  Positive   \n",
            "20  nike  nyse  nke  leader come consum sportswear...  Positive   \n",
            "21  oct 23  reuter   unilev  ulvrl  chariti suppor...  Positive   \n",
            "22  london  sept 19  reuter   nestl said tuesday p...  Positive   \n",
            "23  get smart news  model sift  free weekli newsle...  Positive   \n",
            "24  editori note  blueprint may earn commiss affil...  Positive   \n",
            "\n",
            "                                      Aspect Analysis  \n",
            "0   {'Medifast': 0.0, 'Novo Nordisk': 0.0, 'Novo':...  \n",
            "1   {'Eli Lilly’s': 0.0, 'the Food and Drug Admini...  \n",
            "2   {'Reuters': 0.0, 'Bristol Myers Squibb': 0.0, ...  \n",
            "3   {'the Bone Marrow Transplant Clinic': 0.0, 'No...  \n",
            "4       {'CytoMed Therapeutics': 0.0, 'CytoMed': 0.0}  \n",
            "5   {'Reuters': 0.0, 'The U.S. Food and Drug Admin...  \n",
            "6         {'Reuters': 0.0, 'Ensem Therapeutics': 0.0}  \n",
            "7   {'Reuters': 0.0, 'the U.S. Food and Drug Admin...  \n",
            "8   {'BTK': 0.0, 'the European Union': 0.0, 'ROSEW...  \n",
            "9   {'the U.S. Department of Labor': 0.0, 'McDonal...  \n",
            "10  {'New York': 0.13636363636363635, 'McDonald’s'...  \n",
            "11  {'DroneUp': 0.0, 'Virginia': 0.0, 'Tampa Walma...  \n",
            "12  {'Yum Brands': 0.0, 'Taco Bell': 0.0, 'KFC': 0...  \n",
            "13  {\"Taco Bell's\": 0.0, 'Nacho Fries': 0.0, \"Nach...  \n",
            "14  {'Taco Bell': 0.0, 'Toasted Breakfast Tacos': ...  \n",
            "15  {'Reuters': 0.0, \"McDonald's\": 0.0, 'the Chees...  \n",
            "16  {'McDonald’s': 0.0, 'U.S.': 0.0, 'McDonald’s S...  \n",
            "17  {'Taco Bell': 0.0, 'KFC': 0.0, 'Pizza Hut': 0....  \n",
            "18  {'Nike': 0.0, 'Strava': 0.0, 'the Nike Run Clu...  \n",
            "19  {'Strava': 0.0, 'the Nike Run Club': 0.0, 'NRC...  \n",
            "20  {'Nike': 0.0, 'NYSE': 0.0, 'NKE': 0.0, \"The Va...  \n",
            "21  {'Reuters': 0.0, 'Unilever': 0.0, 'New York': ...  \n",
            "22  {'LONDON': 0.0, 'Reuters': 0.0, 'Nestle': 0.0,...  \n",
            "23  {'NLP': 0.0, 'Instagram': 0.0, 'Examination': ...  \n",
            "24  {'Wells Fargo': 0.0, 'Wells Fargo Everyday Che...  \n"
          ]
        }
      ]
    },
    {
      "cell_type": "code",
      "source": [],
      "metadata": {
        "id": "XREfEHTVBP23"
      },
      "execution_count": null,
      "outputs": []
    }
  ]
}